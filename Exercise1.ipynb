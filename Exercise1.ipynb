{
 "cells": [
  {
   "cell_type": "code",
   "execution_count": 1,
   "metadata": {},
   "outputs": [],
   "source": [
    "import tensorflow as tf "
   ]
  },
  {
   "cell_type": "code",
   "execution_count": 2,
   "metadata": {},
   "outputs": [],
   "source": [
    "x=tf.constant([64.3, 99.6, 145.45, 63.75, 135.46, 92.85, 86.97, 144.76, 59.3, 116.03])\n",
    "y=tf.constant([62.55, 82.42, 132.62, 73.31, 131.05, 86.57, 85.49, 127.44, 55.25, 104.84])\n"
   ]
  },
  {
   "cell_type": "code",
   "execution_count": 4,
   "metadata": {},
   "outputs": [
    {
     "name": "stdout",
     "output_type": "stream",
     "text": [
      "tf.Tensor(100.847, shape=(), dtype=float32)\n",
      "tf.Tensor(94.15399, shape=(), dtype=float32)\n"
     ]
    }
   ],
   "source": [
    "avgx=tf.reduce_mean(x)\n",
    "avgy=tf.reduce_mean(y)\n",
    "print(avgx)\n",
    "print(avgy)"
   ]
  },
  {
   "cell_type": "code",
   "execution_count": 18,
   "metadata": {},
   "outputs": [
    {
     "name": "stdout",
     "output_type": "stream",
     "text": [
      "tf.Tensor(0.8321514, shape=(), dtype=float32)\n",
      "tf.Tensor(10.234016, shape=(), dtype=float32)\n"
     ]
    }
   ],
   "source": [
    "topsum=0\n",
    "bottomsum=0\n",
    "for i in range(10):\n",
    "    top=tf.multiply((tf.subtract(x[i],avgx)),(tf.subtract(y[i],avgy)))\n",
    "    bottom=tf.pow((tf.subtract(x[i],avgx)),2)\n",
    "    topsum=tf.add(top,topsum)\n",
    "    bottomsum=tf.add(bottom,bottomsum)\n",
    "w=tf.divide(topsum,bottomsum)\n",
    "print(w)\n",
    "b=tf.subtract(avgy,(tf.multiply(w,avgx)))\n",
    "print(b)"
   ]
  },
  {
   "cell_type": "code",
   "execution_count": null,
   "metadata": {},
   "outputs": [],
   "source": []
  }
 ],
 "metadata": {
  "kernelspec": {
   "display_name": "Python 3",
   "language": "python",
   "name": "python3"
  },
  "language_info": {
   "codemirror_mode": {
    "name": "ipython",
    "version": 3
   },
   "file_extension": ".py",
   "mimetype": "text/x-python",
   "name": "python",
   "nbconvert_exporter": "python",
   "pygments_lexer": "ipython3",
   "version": "3.7.4"
  }
 },
 "nbformat": 4,
 "nbformat_minor": 2
}
