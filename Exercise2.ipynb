{
 "cells": [
  {
   "cell_type": "code",
   "execution_count": 5,
   "metadata": {},
   "outputs": [],
   "source": [
    "import tensorflow as tf"
   ]
  },
  {
   "cell_type": "code",
   "execution_count": 6,
   "metadata": {},
   "outputs": [],
   "source": [
    "x=tf.constant([64.3, 99.6, 145.45, 63.75, 135.46, 92.85, 86.97, 144.76, 59.3, 116.03])\n",
    "y=tf.constant([62.55, 82.42, 132.62, 73.31, 131.05, 86.57, 85.49, 127.44, 55.25, 104.84])"
   ]
  },
  {
   "cell_type": "code",
   "execution_count": 7,
   "metadata": {},
   "outputs": [
    {
     "name": "stdout",
     "output_type": "stream",
     "text": [
      "tf.Tensor(1008.47, shape=(), dtype=float32)\n",
      "tf.Tensor(941.54004, shape=(), dtype=float32)\n",
      "tf.Tensor(100.847, shape=(), dtype=float32)\n",
      "tf.Tensor(94.15399, shape=(), dtype=float32)\n"
     ]
    }
   ],
   "source": [
    "avgx=tf.reduce_mean(x)\n",
    "avgy=tf.reduce_mean(y)\n",
    "xsum=0\n",
    "ysum=0\n",
    "for i in range(10):\n",
    "    xsum=tf.add(x[i],xsum)\n",
    "    ysum=tf.add(y[i],ysum)\n",
    "print(xsum)\n",
    "print(ysum)\n",
    "print(avgx)\n",
    "print(avgy)"
   ]
  },
  {
   "cell_type": "code",
   "execution_count": 12,
   "metadata": {},
   "outputs": [
    {
     "name": "stdout",
     "output_type": "stream",
     "text": [
      "tf.Tensor(1033083.4, shape=(), dtype=float32)\n",
      "tf.Tensor(835685.0, shape=(), dtype=float32)\n",
      "tf.Tensor(1004246.9, shape=(), dtype=float32)\n",
      "w: tf.Tensor(0.83215094, shape=(), dtype=float32)\n",
      "b: tf.Tensor(10.234082, shape=(), dtype=float32)\n"
     ]
    }
   ],
   "source": [
    "topleftsum=0\n",
    "for i in range(10):\n",
    "    topleft=tf.multiply(x[i],y[i])\n",
    "    topleftsum=tf.add(topleft,topleftsum)\n",
    "topleftsum=tf.multiply(10,topleftsum)\n",
    "print(topleftsum)\n",
    "bottomleftsum=0\n",
    "for i in range(10):\n",
    "    bottomleft=tf.pow(x[i],2)\n",
    "    bottomleftsum=tf.add(bottomleftsum,bottomleft)\n",
    "bottomleftsum=tf.multiply(10,bottomleftsum)\n",
    "topsum=0\n",
    "bottomsum=0\n",
    "n=10\n",
    "for i in range(10):\n",
    "    top=tf.subtract(topleftsum,tf.multiply(xsum,ysum))\n",
    "    bottom=tf.subtract(bottomleftsum,tf.pow((xsum),2))\n",
    "    topsum=tf.add(top,topsum)\n",
    "    bottomsum=tf.add(bottom,bottomsum)\n",
    "print(topsum)\n",
    "print(bottomsum)\n",
    "w=tf.divide(topsum,bottomsum)\n",
    "print(\"w:\",w)\n",
    "b=tf.divide(tf.subtract(ysum,tf.multiply(w,xsum)),n)\n",
    "print(\"b:\",b)"
   ]
  },
  {
   "cell_type": "code",
   "execution_count": null,
   "metadata": {},
   "outputs": [],
   "source": []
  }
 ],
 "metadata": {
  "kernelspec": {
   "display_name": "Python 3",
   "language": "python",
   "name": "python3"
  },
  "language_info": {
   "codemirror_mode": {
    "name": "ipython",
    "version": 3
   },
   "file_extension": ".py",
   "mimetype": "text/x-python",
   "name": "python",
   "nbconvert_exporter": "python",
   "pygments_lexer": "ipython3",
   "version": "3.7.4"
  }
 },
 "nbformat": 4,
 "nbformat_minor": 2
}
